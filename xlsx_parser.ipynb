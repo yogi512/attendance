{
 "cells": [
  {
   "cell_type": "code",
   "execution_count": 240,
   "source": [
    "import pandas as pd \r\n",
    "import numpy as np\r\n",
    "import os\r\n",
    "import csv\r\n",
    "from pathlib import Path\r\n",
    "import datetime as dt"
   ],
   "outputs": [],
   "metadata": {}
  },
  {
   "cell_type": "code",
   "execution_count": 274,
   "source": [
    "filename='ACL_2021-07-20.csv'"
   ],
   "outputs": [],
   "metadata": {}
  },
  {
   "cell_type": "code",
   "execution_count": 275,
   "source": [
    "def avg_time(datetimes):\r\n",
    "    total = sum(dt.hour * 3600 + dt.minute * 60 + dt.second for dt in datetimes)\r\n",
    "    avg = total / len(datetimes)\r\n",
    "    minutes, seconds = divmod(int(avg), 60)\r\n",
    "    hours, minutes = divmod(minutes, 60)\r\n",
    "    return avg"
   ],
   "outputs": [],
   "metadata": {}
  },
  {
   "cell_type": "code",
   "execution_count": 276,
   "source": [
    "def attendance(filename):\r\n",
    "    date = filename.split('_')[1]\r\n",
    "    date = date.split('.')[0]\r\n",
    "    subject = filename.split('_')[0]\r\n",
    "    data = pd.read_csv(subject + '.csv')\r\n",
    "    df = pd.read_csv(filename)\r\n",
    "    df['Time in Call'] = pd.to_datetime(df['Time in Call'])\r\n",
    "    df['Time in Call']=df['Time in Call'].dt.time\r\n",
    "    times = df['Time in Call'].to_list()\r\n",
    "    data['totalTime']=df['Time in Call'].apply(lambda x:(x.hour*3600 + x.minute*60 +x.second))\r\n",
    "    avg = avg_time(times)\r\n",
    "    threshold = 0.5*avg\r\n",
    "    names=df['Full Name'].to_list()\r\n",
    "    data[date]=data['Full Name'].apply(lambda x: 1 if x in names else \"absent\")\r\n",
    "    data[date]=data['totalTime'].apply(lambda x: 1 if x >threshold else \"absent\")\r\n",
    "    data.to_csv(subject + '.csv',index=False)"
   ],
   "outputs": [],
   "metadata": {}
  },
  {
   "cell_type": "code",
   "execution_count": 277,
   "source": [
    "attendance(filename)"
   ],
   "outputs": [],
   "metadata": {}
  },
  {
   "cell_type": "code",
   "execution_count": 185,
   "source": [
    "# date = filename.split('_')[1]\r\n",
    "# date = date.split('.')[0]\r\n",
    "# subject = filename.split('_')[0]\r\n",
    "# data = pd.read_csv(subject + '.csv')\r\n",
    "# df = pd.read_csv(filename)\r\n",
    "# df['Time in Call'] = pd.to_datetime(df['Time in Call'])\r\n",
    "# df['Time in Call']=df['Time in Call'].dt.time\r\n",
    "# times = df['Time in Call'].to_list()\r\n",
    "# avg = avg_time(times)\r\n",
    "# threshold = 0.5*avg\r\n",
    "# print(threshold)\r\n"
   ],
   "outputs": [
    {
     "output_type": "stream",
     "name": "stdout",
     "text": [
      "1650.4237288135594\n"
     ]
    }
   ],
   "metadata": {}
  },
  {
   "cell_type": "markdown",
   "source": [
    "time = [sum(time.hour * 3600 + time.minute * 60 + time.second) for time in times]"
   ],
   "metadata": {}
  },
  {
   "cell_type": "code",
   "execution_count": 273,
   "source": [
    "df1=pd.read_csv(filename)\r\n",
    "df1.drop([\"First Seen\",\"Time in Call\"],axis=1,inplace=True)\r\n",
    "df1.to_csv(\"ACL.csv\",index=False)"
   ],
   "outputs": [],
   "metadata": {}
  }
 ],
 "metadata": {
  "orig_nbformat": 4,
  "language_info": {
   "name": "python",
   "version": "3.8.8",
   "mimetype": "text/x-python",
   "codemirror_mode": {
    "name": "ipython",
    "version": 3
   },
   "pygments_lexer": "ipython3",
   "nbconvert_exporter": "python",
   "file_extension": ".py"
  },
  "kernelspec": {
   "name": "python3",
   "display_name": "Python 3.8.8 64-bit ('base': conda)"
  },
  "interpreter": {
   "hash": "b3ba2566441a7c06988d0923437866b63cedc61552a5af99d1f4fb67d367b25f"
  }
 },
 "nbformat": 4,
 "nbformat_minor": 2
}