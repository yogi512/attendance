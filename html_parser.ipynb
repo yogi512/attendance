{
 "cells": [
  {
   "cell_type": "code",
   "execution_count": 46,
   "source": [
    "from bs4 import BeautifulSoup as bs\r\n",
    "import pandas as pd\r\n",
    "import os\r\n",
    "from pathlib import Path\r\n",
    "import json\r\n",
    "import pprint\r\n",
    "import re\r\n",
    "from slimit import ast\r\n",
    "from slimit.parser import Parser\r\n",
    "from slimit.visitors import nodevisitor\r\n",
    "\r\n",
    "\r\n"
   ],
   "outputs": [],
   "metadata": {}
  },
  {
   "cell_type": "code",
   "execution_count": 9,
   "source": [
    "Path.cwd()"
   ],
   "outputs": [
    {
     "output_type": "execute_result",
     "data": {
      "text/plain": [
       "WindowsPath('c:/yogesh/attendance')"
      ]
     },
     "metadata": {},
     "execution_count": 9
    }
   ],
   "metadata": {}
  },
  {
   "cell_type": "code",
   "execution_count": 12,
   "source": [
    "os.chdir('./data')"
   ],
   "outputs": [],
   "metadata": {}
  },
  {
   "cell_type": "code",
   "execution_count": 20,
   "source": [
    "base = os.path.dirname(os.path.abspath('__Path__'))\r\n",
    "print(base)\r\n",
    "html = os.path.join(base,'my-class (2021-06-29).html',)\r\n",
    "print(html)"
   ],
   "outputs": [
    {
     "output_type": "stream",
     "name": "stdout",
     "text": [
      "c:\\yogesh\\attendance\\data\n",
      "c:\\yogesh\\attendance\\data\\my-class (2021-06-29).html\n"
     ]
    }
   ],
   "metadata": {}
  },
  {
   "cell_type": "code",
   "execution_count": 31,
   "source": [
    "\r\n",
    "base = os.path.dirname(os.path.abspath('__Path__'))\r\n",
    "html = open(os.path.join(base,'my-class (2021-06-29).html',))\r\n",
    "soup = bs(html, 'html.parser')\r\n",
    "for script in soup.find_all(\"script\"):\r\n",
    "    print(script.get_text())\r\n",
    "\r\n"
   ],
   "outputs": [],
   "metadata": {}
  },
  {
   "cell_type": "code",
   "execution_count": 57,
   "source": [
    "base = os.path.dirname(os.path.abspath('__Path__'))\r\n",
    "html = open(os.path.join(base,'my-class (2021-06-29).html',))\r\n",
    "soup = bs(html, 'lxml')\r\n",
    "json_string = re.search(r'classList\\s*=\\s*(.*?}])\\s*\\n', str(soup.find('script')), flags=re.DOTALL)\r\n",
    "# json_data = json.loads('{' + json_string[1] + '}')\r\n",
    "# pprint(json_data)"
   ],
   "outputs": [],
   "metadata": {}
  },
  {
   "cell_type": "code",
   "execution_count": 60,
   "source": [
    "pprint.pp(json_string)"
   ],
   "outputs": [
    {
     "output_type": "stream",
     "name": "stdout",
     "text": [
      "None\n"
     ]
    }
   ],
   "metadata": {}
  },
  {
   "cell_type": "code",
   "execution_count": 42,
   "source": [
    "json_string"
   ],
   "outputs": [],
   "metadata": {}
  },
  {
   "cell_type": "code",
   "execution_count": null,
   "source": [
    "classList\\s*=\\s*(.*?}])\\s*\\n"
   ],
   "outputs": [],
   "metadata": {}
  },
  {
   "cell_type": "code",
   "execution_count": 23,
   "source": [
    "Path.cwd()"
   ],
   "outputs": [
    {
     "output_type": "execute_result",
     "data": {
      "text/plain": [
       "WindowsPath('c:/yogesh/attendance/data')"
      ]
     },
     "metadata": {},
     "execution_count": 23
    }
   ],
   "metadata": {}
  },
  {
   "cell_type": "code",
   "execution_count": 56,
   "source": [
    "%whos"
   ],
   "outputs": [
    {
     "output_type": "stream",
     "name": "stdout",
     "text": [
      "Variable      Type              Data/Info\n",
      "-----------------------------------------\n",
      "Parser        type              <class 'slimit.parser.Parser'>\n",
      "Path          type              <class 'pathlib.Path'>\n",
      "ast           module            <module 'slimit.ast' from<...>ackages\\\\slimit\\\\ast.py'>\n",
      "base          str               c:\\yogesh\\attendance\\data\n",
      "bs            type              <class 'bs4.BeautifulSoup'>\n",
      "codecs        module            <module 'codecs' from 'C:<...>aconda3\\\\lib\\\\codecs.py'>\n",
      "f_output      BufferedWriter    <_io.BufferedWriter name=<...>class (2021-06-29).html'>\n",
      "html          TextIOWrapper     <_io.TextIOWrapper name='<...>de='r' encoding='cp1252'>\n",
      "js            NoneType          None\n",
      "json          module            <module 'json' from 'C:\\\\<...>\\lib\\\\json\\\\__init__.py'>\n",
      "json_string   NoneType          None\n",
      "nodevisitor   module            <module 'slimit.visitors.<...>isitors\\\\nodevisitor.py'>\n",
      "old_text      NoneType          None\n",
      "os            module            <module 'os' from 'C:\\\\Pr<...>\\\\Anaconda3\\\\lib\\\\os.py'>\n",
      "parser        Parser            <slimit.parser.Parser obj<...>ct at 0x0000017488FA1520>\n",
      "pd            module            <module 'pandas' from 'C:<...>es\\\\pandas\\\\__init__.py'>\n",
      "pprint        module            <module 'pprint' from 'C:<...>aconda3\\\\lib\\\\pprint.py'>\n",
      "re            module            <module 're' from 'C:\\\\Pr<...>\\\\Anaconda3\\\\lib\\\\re.py'>\n",
      "script        NoneType          None\n",
      "soup          BeautifulSoup     \n",
      "sys           module            <module 'sys' (built-in)>\n",
      "urllib        module            <module 'urllib' from 'C:<...>ib\\\\urllib\\\\__init__.py'>\n"
     ]
    }
   ],
   "metadata": {}
  },
  {
   "cell_type": "code",
   "execution_count": 47,
   "source": [
    "soup = bs(html, \"html.parser\")\r\n",
    "\r\n",
    "script = soup.find(\"script\", text=lambda text: text and \"let classList\" in text)\r\n",
    "\r\n",
    "# parse js\r\n",
    "parser = Parser()\r\n",
    "tree = parser.parse(script.text)\r\n",
    "for node in nodevisitor.visit(tree):\r\n",
    "    if isinstance(node, ast.VarDecl) and node.identifier.value == 'classList':\r\n",
    "        print(node.initializer.value)"
   ],
   "outputs": [
    {
     "output_type": "stream",
     "name": "stderr",
     "text": [
      "WARNING: Couldn't write lextab module <module 'slimit.lextab' from 'C:\\\\ProgramData\\\\Anaconda3\\\\lib\\\\site-packages\\\\slimit\\\\lextab.py'>. Won't overwrite existing lextab module\n",
      "WARNING: yacc table file version is out of date\n",
      "WARNING: Token 'BLOCK_COMMENT' defined, but not used\n",
      "WARNING: Token 'CLASS' defined, but not used\n",
      "WARNING: Token 'CONST' defined, but not used\n",
      "WARNING: Token 'ENUM' defined, but not used\n",
      "WARNING: Token 'EXPORT' defined, but not used\n",
      "WARNING: Token 'EXTENDS' defined, but not used\n",
      "WARNING: Token 'IMPORT' defined, but not used\n",
      "WARNING: Token 'LINE_COMMENT' defined, but not used\n",
      "WARNING: Token 'LINE_TERMINATOR' defined, but not used\n",
      "WARNING: Token 'SUPER' defined, but not used\n",
      "WARNING: There are 10 unused tokens\n",
      "WARNING: Couldn't create <module 'slimit.yacctab' from 'C:\\\\ProgramData\\\\Anaconda3\\\\lib\\\\site-packages\\\\slimit\\\\yacctab.py'>. Won't overwrite existing tabmodule\n"
     ]
    },
    {
     "output_type": "error",
     "ename": "AttributeError",
     "evalue": "'NoneType' object has no attribute 'text'",
     "traceback": [
      "\u001b[1;31m---------------------------------------------------------------------------\u001b[0m",
      "\u001b[1;31mAttributeError\u001b[0m                            Traceback (most recent call last)",
      "\u001b[1;32m<ipython-input-47-6a0b80cb6597>\u001b[0m in \u001b[0;36m<module>\u001b[1;34m\u001b[0m\n\u001b[0;32m      5\u001b[0m \u001b[1;31m# parse js\u001b[0m\u001b[1;33m\u001b[0m\u001b[1;33m\u001b[0m\u001b[1;33m\u001b[0m\u001b[0m\n\u001b[0;32m      6\u001b[0m \u001b[0mparser\u001b[0m \u001b[1;33m=\u001b[0m \u001b[0mParser\u001b[0m\u001b[1;33m(\u001b[0m\u001b[1;33m)\u001b[0m\u001b[1;33m\u001b[0m\u001b[1;33m\u001b[0m\u001b[0m\n\u001b[1;32m----> 7\u001b[1;33m \u001b[0mtree\u001b[0m \u001b[1;33m=\u001b[0m \u001b[0mparser\u001b[0m\u001b[1;33m.\u001b[0m\u001b[0mparse\u001b[0m\u001b[1;33m(\u001b[0m\u001b[0mscript\u001b[0m\u001b[1;33m.\u001b[0m\u001b[0mtext\u001b[0m\u001b[1;33m)\u001b[0m\u001b[1;33m\u001b[0m\u001b[1;33m\u001b[0m\u001b[0m\n\u001b[0m\u001b[0;32m      8\u001b[0m \u001b[1;32mfor\u001b[0m \u001b[0mnode\u001b[0m \u001b[1;32min\u001b[0m \u001b[0mnodevisitor\u001b[0m\u001b[1;33m.\u001b[0m\u001b[0mvisit\u001b[0m\u001b[1;33m(\u001b[0m\u001b[0mtree\u001b[0m\u001b[1;33m)\u001b[0m\u001b[1;33m:\u001b[0m\u001b[1;33m\u001b[0m\u001b[1;33m\u001b[0m\u001b[0m\n\u001b[0;32m      9\u001b[0m     \u001b[1;32mif\u001b[0m \u001b[0misinstance\u001b[0m\u001b[1;33m(\u001b[0m\u001b[0mnode\u001b[0m\u001b[1;33m,\u001b[0m \u001b[0mast\u001b[0m\u001b[1;33m.\u001b[0m\u001b[0mVarDecl\u001b[0m\u001b[1;33m)\u001b[0m \u001b[1;32mand\u001b[0m \u001b[0mnode\u001b[0m\u001b[1;33m.\u001b[0m\u001b[0midentifier\u001b[0m\u001b[1;33m.\u001b[0m\u001b[0mvalue\u001b[0m \u001b[1;33m==\u001b[0m \u001b[1;34m'classList'\u001b[0m\u001b[1;33m:\u001b[0m\u001b[1;33m\u001b[0m\u001b[1;33m\u001b[0m\u001b[0m\n",
      "\u001b[1;31mAttributeError\u001b[0m: 'NoneType' object has no attribute 'text'"
     ]
    }
   ],
   "metadata": {}
  }
 ],
 "metadata": {
  "orig_nbformat": 4,
  "language_info": {
   "name": "python"
  }
 },
 "nbformat": 4,
 "nbformat_minor": 2
}