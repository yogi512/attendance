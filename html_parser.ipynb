{
 "cells": [
  {
   "cell_type": "code",
   "execution_count": 46,
   "source": [
    "from bs4 import BeautifulSoup as bs\r\n",
    "import pandas as pd\r\n",
    "import os\r\n",
    "from pathlib import Path\r\n",
    "import json\r\n",
    "import pprint\r\n",
    "import re\r\n",
    "from slimit import ast\r\n",
    "from slimit.parser import Parser\r\n",
    "from slimit.visitors import nodevisitor\r\n",
    "\r\n",
    "\r\n"
   ],
   "outputs": [],
   "metadata": {}
  },
  {
   "cell_type": "code",
   "execution_count": 9,
   "source": [
    "Path.cwd()"
   ],
   "outputs": [
    {
     "output_type": "execute_result",
     "data": {
      "text/plain": [
       "WindowsPath('c:/yogesh/attendance')"
      ]
     },
     "metadata": {},
     "execution_count": 9
    }
   ],
   "metadata": {}
  },
  {
   "cell_type": "code",
   "execution_count": 12,
   "source": [
    "os.chdir('./data')"
   ],
   "outputs": [],
   "metadata": {}
  },
  {
   "cell_type": "code",
   "execution_count": 20,
   "source": [
    "base = os.path.dirname(os.path.abspath('__Path__'))\r\n",
    "print(base)\r\n",
    "html = os.path.join(base,'my-class (2021-06-29).html',)\r\n",
    "print(html)"
   ],
   "outputs": [
    {
     "output_type": "stream",
     "name": "stdout",
     "text": [
      "c:\\yogesh\\attendance\\data\n",
      "c:\\yogesh\\attendance\\data\\my-class (2021-06-29).html\n"
     ]
    }
   ],
   "metadata": {}
  },
  {
   "cell_type": "code",
   "execution_count": 31,
   "source": [
    "\r\n",
    "base = os.path.dirname(os.path.abspath('__Path__'))\r\n",
    "html = open(os.path.join(base,'my-class (2021-06-29).html',))\r\n",
    "soup = bs(html, 'html.parser')\r\n",
    "for script in soup.find_all(\"script\"):\r\n",
    "    print(script.get_text())\r\n",
    "\r\n"
   ],
   "outputs": [],
   "metadata": {}
  },
  {
   "cell_type": "code",
   "execution_count": 57,
   "source": [
    "base = os.path.dirname(os.path.abspath('__Path__'))\r\n",
    "html = open(os.path.join(base,'my-class (2021-06-29).html',))\r\n",
    "soup = bs(html, 'lxml')\r\n",
    "json_string = re.search(r'classList\\s*=\\s*(.*?}])\\s*\\n', str(soup.find('script')), flags=re.DOTALL)\r\n",
    "# json_data = json.loads('{' + json_string[1] + '}')\r\n",
    "# pprint(json_data)"
   ],
   "outputs": [],
   "metadata": {}
  }
 ],
 "metadata": {
  "orig_nbformat": 4,
  "language_info": {
   "name": "python"
  }
 },
 "nbformat": 4,
 "nbformat_minor": 2
}