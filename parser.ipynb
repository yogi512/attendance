{
 "cells": [
  {
   "cell_type": "code",
   "execution_count": 1,
   "source": [
    "import pandas as pd \r\n",
    "import numpy as np \r\n",
    "import os \r\n",
    "import pathlib\r\n",
    "import re"
   ],
   "outputs": [],
   "metadata": {}
  },
  {
   "cell_type": "code",
   "execution_count": 2,
   "source": [
    "\r\n",
    "os.chdir('./data')"
   ],
   "outputs": [],
   "metadata": {}
  },
  {
   "cell_type": "code",
   "execution_count": 3,
   "source": [
    "os.listdir()"
   ],
   "outputs": [
    {
     "output_type": "execute_result",
     "data": {
      "text/plain": [
       "['My class (2021-06-22).html',\n",
       " 'my-class (2021-06-18).html',\n",
       " 'my-class (2021-06-18)2.html',\n",
       " 'my-class (2021-06-29).html',\n",
       " 'my-class (2021-07-07).html',\n",
       " 'my-class (2021-07-09).html',\n",
       " 'my-class (2021-07-13).html',\n",
       " 'my-class (2021-07-14).html',\n",
       " 'my-class (2021-07-16).html']"
      ]
     },
     "metadata": {},
     "execution_count": 3
    }
   ],
   "metadata": {}
  },
  {
   "cell_type": "code",
   "execution_count": 4,
   "source": [
    "file_dates=[]"
   ],
   "outputs": [],
   "metadata": {}
  },
  {
   "cell_type": "code",
   "execution_count": 5,
   "source": [
    "for file in os.listdir():\r\n",
    "    parsed = file.split('(')[1]\r\n",
    "    file_dates.append(parsed)\r\n",
    "   "
   ],
   "outputs": [],
   "metadata": {}
  },
  {
   "cell_type": "code",
   "execution_count": 6,
   "source": [
    "file_dates"
   ],
   "outputs": [
    {
     "output_type": "execute_result",
     "data": {
      "text/plain": [
       "['2021-06-22).html',\n",
       " '2021-06-18).html',\n",
       " '2021-06-18)2.html',\n",
       " '2021-06-29).html',\n",
       " '2021-07-07).html',\n",
       " '2021-07-09).html',\n",
       " '2021-07-13).html',\n",
       " '2021-07-14).html',\n",
       " '2021-07-16).html']"
      ]
     },
     "metadata": {},
     "execution_count": 6
    }
   ],
   "metadata": {}
  },
  {
   "cell_type": "code",
   "execution_count": 7,
   "source": [
    "dates = list(map(lambda file : file.split(')')[0],file_dates))"
   ],
   "outputs": [],
   "metadata": {}
  },
  {
   "cell_type": "code",
   "execution_count": 8,
   "source": [
    "dates"
   ],
   "outputs": [
    {
     "output_type": "execute_result",
     "data": {
      "text/plain": [
       "['2021-06-22',\n",
       " '2021-06-18',\n",
       " '2021-06-18',\n",
       " '2021-06-29',\n",
       " '2021-07-07',\n",
       " '2021-07-09',\n",
       " '2021-07-13',\n",
       " '2021-07-14',\n",
       " '2021-07-16']"
      ]
     },
     "metadata": {},
     "execution_count": 8
    }
   ],
   "metadata": {}
  },
  {
   "cell_type": "code",
   "execution_count": null,
   "source": [],
   "outputs": [],
   "metadata": {}
  },
  {
   "cell_type": "code",
   "execution_count": null,
   "source": [],
   "outputs": [],
   "metadata": {}
  }
 ],
 "metadata": {
  "orig_nbformat": 4,
  "language_info": {
   "name": "python"
  }
 },
 "nbformat": 4,
 "nbformat_minor": 2
}