{
 "cells": [
  {
   "cell_type": "code",
   "execution_count": 1,
   "source": [
    "import pandas as pd \r\n",
    "import numpy as np\r\n",
    "import os\r\n",
    "import csv\r\n",
    "from pathlib import Path\r\n",
    "import datetime as dt"
   ],
   "outputs": [],
   "metadata": {}
  },
  {
   "cell_type": "code",
   "execution_count": 2,
   "source": [
    "filename='ACL_2021-07-20.csv'"
   ],
   "outputs": [],
   "metadata": {}
  },
  {
   "cell_type": "code",
   "execution_count": 3,
   "source": [
    "def avg_time(datetimes):\r\n",
    "    total = sum(dt.hour * 3600 + dt.minute * 60 + dt.second for dt in datetimes)\r\n",
    "    avg = total / len(datetimes)\r\n",
    "    minutes, seconds = divmod(int(avg), 60)\r\n",
    "    hours, minutes = divmod(minutes, 60)\r\n",
    "    return avg"
   ],
   "outputs": [],
   "metadata": {}
  },
  {
   "cell_type": "code",
   "execution_count": 321,
   "source": [
    "def attendance(filename):\r\n",
    "    date = filename.split('_')[1]\r\n",
    "    date = date.split('.')[0]\r\n",
    "    subject = filename.split('_')[0]\r\n",
    "    data = pd.read_csv(subject + '.csv')\r\n",
    "    df = pd.read_csv(filename)\r\n",
    "    df['Time in Call'] = pd.to_datetime(df['Time in Call'])\r\n",
    "    df['Time in Call']=df['Time in Call'].dt.time\r\n",
    "    times = df['Time in Call'].to_list()\r\n",
    "    df['totalTime']=df['Time in Call'].apply(lambda x:(x.hour*3600 + x.minute*60 +x.second))\r\n",
    "    avg = avg_time(times)\r\n",
    "    threshold = 0.5*avg\r\n",
    "    names=df['Full Name'].to_list()\r\n",
    "    data[date]=data['Full Name'].apply(lambda x: 1 if x in names else \"absent\")  \r\n",
    "    data[date]=df['totalTime'].apply(lambda x: 1 if x >threshold else \"absent\")\r\n",
    "    data.to_csv(subject + '.csv',index=False)"
   ],
   "outputs": [],
   "metadata": {}
  },
  {
   "cell_type": "code",
   "execution_count": 327,
   "source": [
    "attendance(filename)"
   ],
   "outputs": [],
   "metadata": {}
  },
  {
   "cell_type": "code",
   "execution_count": 111,
   "source": [
    "date = filename.split('_')[1]\r\n",
    "date = date.split('.')[0]\r\n",
    "subject = filename.split('_')[0]\r\n",
    "data = pd.read_csv(subject + '.csv')\r\n",
    "df = pd.read_csv(filename)\r\n",
    "\r\n",
    "names=df['Full Name'].to_list()\r\n",
    "data[date]=data['Full Name'].apply(lambda x: 1 if x in names else \"absent\")\r\n",
    "df['Time in Call'] = pd.to_datetime(df['Time in Call'])\r\n",
    "df['Time in Call']=df['Time in Call'].dt.time\r\n",
    "# times = df['Time in Call'].to_list()\r\n",
    "# df['totalTime']=df['Time in Call'].apply(lambda x:(x.hour*3600 + x.minute*60 +x.second))\r\n",
    "# avg = avg_time(times)\r\n",
    "# threshold = 0.5*avg\r\n",
    "# data[date]=df['totalTime'].apply(lambda x: 1 if x >threshold else \"absent\")"
   ],
   "outputs": [
    {
     "output_type": "error",
     "ename": "KeyError",
     "evalue": "'totalTime'",
     "traceback": [
      "\u001b[1;31m---------------------------------------------------------------------------\u001b[0m",
      "\u001b[1;31mKeyError\u001b[0m                                  Traceback (most recent call last)",
      "\u001b[1;32mC:\\ProgramData\\Anaconda3\\lib\\site-packages\\pandas\\core\\indexes\\base.py\u001b[0m in \u001b[0;36mget_loc\u001b[1;34m(self, key, method, tolerance)\u001b[0m\n\u001b[0;32m   3079\u001b[0m             \u001b[1;32mtry\u001b[0m\u001b[1;33m:\u001b[0m\u001b[1;33m\u001b[0m\u001b[1;33m\u001b[0m\u001b[0m\n\u001b[1;32m-> 3080\u001b[1;33m                 \u001b[1;32mreturn\u001b[0m \u001b[0mself\u001b[0m\u001b[1;33m.\u001b[0m\u001b[0m_engine\u001b[0m\u001b[1;33m.\u001b[0m\u001b[0mget_loc\u001b[0m\u001b[1;33m(\u001b[0m\u001b[0mcasted_key\u001b[0m\u001b[1;33m)\u001b[0m\u001b[1;33m\u001b[0m\u001b[1;33m\u001b[0m\u001b[0m\n\u001b[0m\u001b[0;32m   3081\u001b[0m             \u001b[1;32mexcept\u001b[0m \u001b[0mKeyError\u001b[0m \u001b[1;32mas\u001b[0m \u001b[0merr\u001b[0m\u001b[1;33m:\u001b[0m\u001b[1;33m\u001b[0m\u001b[1;33m\u001b[0m\u001b[0m\n",
      "\u001b[1;32mpandas\\_libs\\index.pyx\u001b[0m in \u001b[0;36mpandas._libs.index.IndexEngine.get_loc\u001b[1;34m()\u001b[0m\n",
      "\u001b[1;32mpandas\\_libs\\index.pyx\u001b[0m in \u001b[0;36mpandas._libs.index.IndexEngine.get_loc\u001b[1;34m()\u001b[0m\n",
      "\u001b[1;32mpandas\\_libs\\hashtable_class_helper.pxi\u001b[0m in \u001b[0;36mpandas._libs.hashtable.PyObjectHashTable.get_item\u001b[1;34m()\u001b[0m\n",
      "\u001b[1;32mpandas\\_libs\\hashtable_class_helper.pxi\u001b[0m in \u001b[0;36mpandas._libs.hashtable.PyObjectHashTable.get_item\u001b[1;34m()\u001b[0m\n",
      "\u001b[1;31mKeyError\u001b[0m: 'totalTime'",
      "\nThe above exception was the direct cause of the following exception:\n",
      "\u001b[1;31mKeyError\u001b[0m                                  Traceback (most recent call last)",
      "\u001b[1;32m<ipython-input-111-1d40e33a6ce0>\u001b[0m in \u001b[0;36m<module>\u001b[1;34m\u001b[0m\n\u001b[0;32m     13\u001b[0m \u001b[1;31m# avg = avg_time(times)\u001b[0m\u001b[1;33m\u001b[0m\u001b[1;33m\u001b[0m\u001b[1;33m\u001b[0m\u001b[0m\n\u001b[0;32m     14\u001b[0m \u001b[1;31m# threshold = 0.5*avg\u001b[0m\u001b[1;33m\u001b[0m\u001b[1;33m\u001b[0m\u001b[1;33m\u001b[0m\u001b[0m\n\u001b[1;32m---> 15\u001b[1;33m \u001b[0mdata\u001b[0m\u001b[1;33m[\u001b[0m\u001b[0mdate\u001b[0m\u001b[1;33m]\u001b[0m\u001b[1;33m=\u001b[0m\u001b[0mdf\u001b[0m\u001b[1;33m[\u001b[0m\u001b[1;34m'totalTime'\u001b[0m\u001b[1;33m]\u001b[0m\u001b[1;33m.\u001b[0m\u001b[0mapply\u001b[0m\u001b[1;33m(\u001b[0m\u001b[1;32mlambda\u001b[0m \u001b[0mx\u001b[0m\u001b[1;33m:\u001b[0m \u001b[1;36m1\u001b[0m \u001b[1;32mif\u001b[0m \u001b[0mx\u001b[0m \u001b[1;33m>\u001b[0m\u001b[0mthreshold\u001b[0m \u001b[1;32melse\u001b[0m \u001b[1;34m\"absent\"\u001b[0m\u001b[1;33m)\u001b[0m\u001b[1;33m\u001b[0m\u001b[1;33m\u001b[0m\u001b[0m\n\u001b[0m",
      "\u001b[1;32mC:\\ProgramData\\Anaconda3\\lib\\site-packages\\pandas\\core\\frame.py\u001b[0m in \u001b[0;36m__getitem__\u001b[1;34m(self, key)\u001b[0m\n\u001b[0;32m   3022\u001b[0m             \u001b[1;32mif\u001b[0m \u001b[0mself\u001b[0m\u001b[1;33m.\u001b[0m\u001b[0mcolumns\u001b[0m\u001b[1;33m.\u001b[0m\u001b[0mnlevels\u001b[0m \u001b[1;33m>\u001b[0m \u001b[1;36m1\u001b[0m\u001b[1;33m:\u001b[0m\u001b[1;33m\u001b[0m\u001b[1;33m\u001b[0m\u001b[0m\n\u001b[0;32m   3023\u001b[0m                 \u001b[1;32mreturn\u001b[0m \u001b[0mself\u001b[0m\u001b[1;33m.\u001b[0m\u001b[0m_getitem_multilevel\u001b[0m\u001b[1;33m(\u001b[0m\u001b[0mkey\u001b[0m\u001b[1;33m)\u001b[0m\u001b[1;33m\u001b[0m\u001b[1;33m\u001b[0m\u001b[0m\n\u001b[1;32m-> 3024\u001b[1;33m             \u001b[0mindexer\u001b[0m \u001b[1;33m=\u001b[0m \u001b[0mself\u001b[0m\u001b[1;33m.\u001b[0m\u001b[0mcolumns\u001b[0m\u001b[1;33m.\u001b[0m\u001b[0mget_loc\u001b[0m\u001b[1;33m(\u001b[0m\u001b[0mkey\u001b[0m\u001b[1;33m)\u001b[0m\u001b[1;33m\u001b[0m\u001b[1;33m\u001b[0m\u001b[0m\n\u001b[0m\u001b[0;32m   3025\u001b[0m             \u001b[1;32mif\u001b[0m \u001b[0mis_integer\u001b[0m\u001b[1;33m(\u001b[0m\u001b[0mindexer\u001b[0m\u001b[1;33m)\u001b[0m\u001b[1;33m:\u001b[0m\u001b[1;33m\u001b[0m\u001b[1;33m\u001b[0m\u001b[0m\n\u001b[0;32m   3026\u001b[0m                 \u001b[0mindexer\u001b[0m \u001b[1;33m=\u001b[0m \u001b[1;33m[\u001b[0m\u001b[0mindexer\u001b[0m\u001b[1;33m]\u001b[0m\u001b[1;33m\u001b[0m\u001b[1;33m\u001b[0m\u001b[0m\n",
      "\u001b[1;32mC:\\ProgramData\\Anaconda3\\lib\\site-packages\\pandas\\core\\indexes\\base.py\u001b[0m in \u001b[0;36mget_loc\u001b[1;34m(self, key, method, tolerance)\u001b[0m\n\u001b[0;32m   3080\u001b[0m                 \u001b[1;32mreturn\u001b[0m \u001b[0mself\u001b[0m\u001b[1;33m.\u001b[0m\u001b[0m_engine\u001b[0m\u001b[1;33m.\u001b[0m\u001b[0mget_loc\u001b[0m\u001b[1;33m(\u001b[0m\u001b[0mcasted_key\u001b[0m\u001b[1;33m)\u001b[0m\u001b[1;33m\u001b[0m\u001b[1;33m\u001b[0m\u001b[0m\n\u001b[0;32m   3081\u001b[0m             \u001b[1;32mexcept\u001b[0m \u001b[0mKeyError\u001b[0m \u001b[1;32mas\u001b[0m \u001b[0merr\u001b[0m\u001b[1;33m:\u001b[0m\u001b[1;33m\u001b[0m\u001b[1;33m\u001b[0m\u001b[0m\n\u001b[1;32m-> 3082\u001b[1;33m                 \u001b[1;32mraise\u001b[0m \u001b[0mKeyError\u001b[0m\u001b[1;33m(\u001b[0m\u001b[0mkey\u001b[0m\u001b[1;33m)\u001b[0m \u001b[1;32mfrom\u001b[0m \u001b[0merr\u001b[0m\u001b[1;33m\u001b[0m\u001b[1;33m\u001b[0m\u001b[0m\n\u001b[0m\u001b[0;32m   3083\u001b[0m \u001b[1;33m\u001b[0m\u001b[0m\n\u001b[0;32m   3084\u001b[0m         \u001b[1;32mif\u001b[0m \u001b[0mtolerance\u001b[0m \u001b[1;32mis\u001b[0m \u001b[1;32mnot\u001b[0m \u001b[1;32mNone\u001b[0m\u001b[1;33m:\u001b[0m\u001b[1;33m\u001b[0m\u001b[1;33m\u001b[0m\u001b[0m\n",
      "\u001b[1;31mKeyError\u001b[0m: 'totalTime'"
     ]
    }
   ],
   "metadata": {}
  },
  {
   "cell_type": "code",
   "execution_count": null,
   "source": [],
   "outputs": [],
   "metadata": {}
  },
  {
   "cell_type": "code",
   "execution_count": 112,
   "source": [
    "date = filename.split('_')[1]\r\n",
    "date = date.split('.')[0]\r\n",
    "subject = filename.split('_')[0]\r\n",
    "data = pd.read_csv(subject + '.csv')\r\n",
    "df = pd.read_csv(filename)\r\n",
    "\r\n",
    "names=df['Full Name'].to_list()\r\n",
    "df['Time in Call'] = pd.to_datetime(df['Time in Call'])\r\n",
    "df['Time in Call']=df['Time in Call'].dt.time\r\n",
    "data[date]=data['Full Name'].apply(lambda x: 1 if x in names else \"\")\r\n",
    "fullnames=data['Full Name'].to_list()\r\n",
    "# df['totalTime']=df['Time in Call'].apply(lambda x:(x.hour*3600 + x.minute*60 +x.second))\r\n",
    "# data['totalTime']=data[data['Full Name']]\r\n",
    "# avg = avg_time(times)\r\n",
    "# threshold = 0.5*avg\r\n",
    "# data.tail(20)\r\n",
    "# data.to_csv(subject + '.csv',index=False)\r\n",
    "data.tail(20)"
   ],
   "outputs": [
    {
     "output_type": "execute_result",
     "data": {
      "text/plain": [
       "                    Full Name 2021-07-20\n",
       "37               SUBHASELVI A          1\n",
       "38                 SUDARSAN M          1\n",
       "39       SUNIL KUMAR YALAMURI          1\n",
       "40           SUPRIYA VARSHINI          1\n",
       "41                 SYED OWAIS           \n",
       "42       SYED ROSHAN 19EC1100          1\n",
       "43            SYSCON JOSE A J          1\n",
       "44    Sandanalakshmi sridaran          1\n",
       "45          Srinivasamurthy C          1\n",
       "46               TAMIRI SATYA          1\n",
       "47                   THANUJ Y          1\n",
       "48        THIVYA PRABHAKARA A           \n",
       "49  VENKATA SIVA SATISH NALLA           \n",
       "50                  VIGNESH S           \n",
       "51             VIGNESHWARAN S          1\n",
       "52         VISHNU BABU PALEPU          1\n",
       "53              VISHNUKUMAR I          1\n",
       "54             VISVA JANANI K          1\n",
       "55                YOGESHWAR B          1\n",
       "56                YOGESHWAR S           "
      ],
      "text/html": [
       "<div>\n",
       "<style scoped>\n",
       "    .dataframe tbody tr th:only-of-type {\n",
       "        vertical-align: middle;\n",
       "    }\n",
       "\n",
       "    .dataframe tbody tr th {\n",
       "        vertical-align: top;\n",
       "    }\n",
       "\n",
       "    .dataframe thead th {\n",
       "        text-align: right;\n",
       "    }\n",
       "</style>\n",
       "<table border=\"1\" class=\"dataframe\">\n",
       "  <thead>\n",
       "    <tr style=\"text-align: right;\">\n",
       "      <th></th>\n",
       "      <th>Full Name</th>\n",
       "      <th>2021-07-20</th>\n",
       "    </tr>\n",
       "  </thead>\n",
       "  <tbody>\n",
       "    <tr>\n",
       "      <th>37</th>\n",
       "      <td>SUBHASELVI A</td>\n",
       "      <td>1</td>\n",
       "    </tr>\n",
       "    <tr>\n",
       "      <th>38</th>\n",
       "      <td>SUDARSAN M</td>\n",
       "      <td>1</td>\n",
       "    </tr>\n",
       "    <tr>\n",
       "      <th>39</th>\n",
       "      <td>SUNIL KUMAR YALAMURI</td>\n",
       "      <td>1</td>\n",
       "    </tr>\n",
       "    <tr>\n",
       "      <th>40</th>\n",
       "      <td>SUPRIYA VARSHINI</td>\n",
       "      <td>1</td>\n",
       "    </tr>\n",
       "    <tr>\n",
       "      <th>41</th>\n",
       "      <td>SYED OWAIS</td>\n",
       "      <td></td>\n",
       "    </tr>\n",
       "    <tr>\n",
       "      <th>42</th>\n",
       "      <td>SYED ROSHAN 19EC1100</td>\n",
       "      <td>1</td>\n",
       "    </tr>\n",
       "    <tr>\n",
       "      <th>43</th>\n",
       "      <td>SYSCON JOSE A J</td>\n",
       "      <td>1</td>\n",
       "    </tr>\n",
       "    <tr>\n",
       "      <th>44</th>\n",
       "      <td>Sandanalakshmi sridaran</td>\n",
       "      <td>1</td>\n",
       "    </tr>\n",
       "    <tr>\n",
       "      <th>45</th>\n",
       "      <td>Srinivasamurthy C</td>\n",
       "      <td>1</td>\n",
       "    </tr>\n",
       "    <tr>\n",
       "      <th>46</th>\n",
       "      <td>TAMIRI SATYA</td>\n",
       "      <td>1</td>\n",
       "    </tr>\n",
       "    <tr>\n",
       "      <th>47</th>\n",
       "      <td>THANUJ Y</td>\n",
       "      <td>1</td>\n",
       "    </tr>\n",
       "    <tr>\n",
       "      <th>48</th>\n",
       "      <td>THIVYA PRABHAKARA A</td>\n",
       "      <td></td>\n",
       "    </tr>\n",
       "    <tr>\n",
       "      <th>49</th>\n",
       "      <td>VENKATA SIVA SATISH NALLA</td>\n",
       "      <td></td>\n",
       "    </tr>\n",
       "    <tr>\n",
       "      <th>50</th>\n",
       "      <td>VIGNESH S</td>\n",
       "      <td></td>\n",
       "    </tr>\n",
       "    <tr>\n",
       "      <th>51</th>\n",
       "      <td>VIGNESHWARAN S</td>\n",
       "      <td>1</td>\n",
       "    </tr>\n",
       "    <tr>\n",
       "      <th>52</th>\n",
       "      <td>VISHNU BABU PALEPU</td>\n",
       "      <td>1</td>\n",
       "    </tr>\n",
       "    <tr>\n",
       "      <th>53</th>\n",
       "      <td>VISHNUKUMAR I</td>\n",
       "      <td>1</td>\n",
       "    </tr>\n",
       "    <tr>\n",
       "      <th>54</th>\n",
       "      <td>VISVA JANANI K</td>\n",
       "      <td>1</td>\n",
       "    </tr>\n",
       "    <tr>\n",
       "      <th>55</th>\n",
       "      <td>YOGESHWAR B</td>\n",
       "      <td>1</td>\n",
       "    </tr>\n",
       "    <tr>\n",
       "      <th>56</th>\n",
       "      <td>YOGESHWAR S</td>\n",
       "      <td></td>\n",
       "    </tr>\n",
       "  </tbody>\n",
       "</table>\n",
       "</div>"
      ]
     },
     "metadata": {},
     "execution_count": 112
    }
   ],
   "metadata": {}
  },
  {
   "cell_type": "markdown",
   "source": [
    "time = [sum(time.hour * 3600 + time.minute * 60 + time.second) for time in times]"
   ],
   "metadata": {}
  },
  {
   "cell_type": "code",
   "execution_count": 125,
   "source": [
    "list1=[]\r\n",
    "for name in data[\"Full Name\"]:\r\n",
    "    a=df[df['Full Name']==name]['Time in Call']\r\n",
    "    list1.append(a)\r\n"
   ],
   "outputs": [],
   "metadata": {}
  },
  {
   "cell_type": "code",
   "execution_count": 73,
   "source": [
    "finallist=list(map(lambda x:0 if x.empty==True else x,list1)"
   ],
   "outputs": [
    {
     "output_type": "error",
     "ename": "SyntaxError",
     "evalue": "unexpected EOF while parsing (<ipython-input-73-7a62e1713f0e>, line 1)",
     "traceback": [
      "\u001b[1;36m  File \u001b[1;32m\"<ipython-input-73-7a62e1713f0e>\"\u001b[1;36m, line \u001b[1;32m1\u001b[0m\n\u001b[1;33m    finallist=list(map(lambda x:0 if x.empty==True else x,list1)\u001b[0m\n\u001b[1;37m                                                                ^\u001b[0m\n\u001b[1;31mSyntaxError\u001b[0m\u001b[1;31m:\u001b[0m unexpected EOF while parsing\n"
     ]
    }
   ],
   "metadata": {}
  },
  {
   "cell_type": "code",
   "execution_count": 127,
   "source": [
    "for x in iter(list1):\r\n",
    "    if x.empty ==True:\r\n",
    "        x=pd.Series(0)"
   ],
   "outputs": [],
   "metadata": {}
  },
  {
   "cell_type": "code",
   "execution_count": 128,
   "source": [
    "list1"
   ],
   "outputs": [
    {
     "output_type": "execute_result",
     "data": {
      "text/plain": [
       "[0    00:49:37\n",
       " Name: Time in Call, dtype: object,\n",
       " 1    00:55:20\n",
       " Name: Time in Call, dtype: object,\n",
       " 2    00:50:42\n",
       " Name: Time in Call, dtype: object,\n",
       " 3    01:04:21\n",
       " Name: Time in Call, dtype: object,\n",
       " 4    00:50:40\n",
       " Name: Time in Call, dtype: object,\n",
       " 5    00:51:06\n",
       " Name: Time in Call, dtype: object,\n",
       " 6    00:58:43\n",
       " Name: Time in Call, dtype: object,\n",
       " 7    01:00:48\n",
       " Name: Time in Call, dtype: object,\n",
       " 8    00:51:15\n",
       " Name: Time in Call, dtype: object,\n",
       " 9    01:04:46\n",
       " Name: Time in Call, dtype: object,\n",
       " 10    00:55:52\n",
       " Name: Time in Call, dtype: object,\n",
       " 11    00:58:58\n",
       " Name: Time in Call, dtype: object,\n",
       " 12    00:57:35\n",
       " Name: Time in Call, dtype: object,\n",
       " 13    00:55:56\n",
       " Name: Time in Call, dtype: object,\n",
       " 14    01:02:50\n",
       " Name: Time in Call, dtype: object,\n",
       " 15    01:04:25\n",
       " Name: Time in Call, dtype: object,\n",
       " 16    00:03:03\n",
       " Name: Time in Call, dtype: object,\n",
       " 17    01:01:23\n",
       " Name: Time in Call, dtype: object,\n",
       " 18    01:02:18\n",
       " Name: Time in Call, dtype: object,\n",
       " 19    00:54:38\n",
       " Name: Time in Call, dtype: object,\n",
       " 20    01:00:28\n",
       " Name: Time in Call, dtype: object,\n",
       " 21    01:02:54\n",
       " Name: Time in Call, dtype: object,\n",
       " 22    00:45:49\n",
       " Name: Time in Call, dtype: object,\n",
       " 23    00:56:47\n",
       " Name: Time in Call, dtype: object,\n",
       " 24    00:57:03\n",
       " Name: Time in Call, dtype: object,\n",
       " 25    00:48:48\n",
       " Name: Time in Call, dtype: object,\n",
       " 26    00:52:13\n",
       " Name: Time in Call, dtype: object,\n",
       " 27    01:04:11\n",
       " Name: Time in Call, dtype: object,\n",
       " 28    00:52:49\n",
       " Name: Time in Call, dtype: object,\n",
       " 29    00:56:30\n",
       " Name: Time in Call, dtype: object,\n",
       " 30    00:59:19\n",
       " Name: Time in Call, dtype: object,\n",
       " 31    00:51:00\n",
       " Name: Time in Call, dtype: object,\n",
       " 32    00:58:22\n",
       " Name: Time in Call, dtype: object,\n",
       " 33    00:47:57\n",
       " Name: Time in Call, dtype: object,\n",
       " 34    01:03:16\n",
       " Name: Time in Call, dtype: object,\n",
       " 35    00:54:06\n",
       " Name: Time in Call, dtype: object,\n",
       " 36    00:58:08\n",
       " Name: Time in Call, dtype: object,\n",
       " 37    00:50:42\n",
       " Name: Time in Call, dtype: object,\n",
       " 38    00:52:26\n",
       " Name: Time in Call, dtype: object,\n",
       " 39    00:55:18\n",
       " Name: Time in Call, dtype: object,\n",
       " 40    00:54:52\n",
       " Name: Time in Call, dtype: object,\n",
       " Series([], Name: Time in Call, dtype: object),\n",
       " 41    00:29:45\n",
       " Name: Time in Call, dtype: object,\n",
       " 42    00:54:01\n",
       " Name: Time in Call, dtype: object,\n",
       " 43    00:18:23\n",
       " Name: Time in Call, dtype: object,\n",
       " 44    01:01:48\n",
       " Name: Time in Call, dtype: object,\n",
       " 45    00:51:56\n",
       " Name: Time in Call, dtype: object,\n",
       " 46    00:47:37\n",
       " Name: Time in Call, dtype: object,\n",
       " Series([], Name: Time in Call, dtype: object),\n",
       " Series([], Name: Time in Call, dtype: object),\n",
       " Series([], Name: Time in Call, dtype: object),\n",
       " 47    01:01:17\n",
       " Name: Time in Call, dtype: object,\n",
       " 48    01:02:30\n",
       " Name: Time in Call, dtype: object,\n",
       " 49    00:59:56\n",
       " Name: Time in Call, dtype: object,\n",
       " 50    01:01:50\n",
       " Name: Time in Call, dtype: object,\n",
       " 51    01:04:46\n",
       " Name: Time in Call, dtype: object,\n",
       " Series([], Name: Time in Call, dtype: object)]"
      ]
     },
     "metadata": {},
     "execution_count": 128
    }
   ],
   "metadata": {}
  },
  {
   "cell_type": "code",
   "execution_count": 82,
   "source": [
    "list1[48].empty==True\r\n"
   ],
   "outputs": [
    {
     "output_type": "execute_result",
     "data": {
      "text/plain": [
       "True"
      ]
     },
     "metadata": {},
     "execution_count": 82
    }
   ],
   "metadata": {}
  },
  {
   "cell_type": "markdown",
   "source": [
    "GET ACL.csv"
   ],
   "metadata": {}
  },
  {
   "cell_type": "code",
   "execution_count": 20,
   "source": [
    "df1=pd.read_csv(filename)\r\n",
    "df1.drop([\"First Seen\",\"Time in Call\"],axis=1,inplace=True)\r\n",
    "df1.to_csv(\"ACL.csv\",index=False)"
   ],
   "outputs": [],
   "metadata": {}
  },
  {
   "cell_type": "code",
   "execution_count": 302,
   "source": [
    "date = filename.split('_')[1]\r\n",
    "date = date.split('.')[0]\r\n",
    "df1=pd.read_csv(\"ACL.csv\")\r\n",
    "df1.drop([\"totalTime\",date],axis=1,inplace=True)\r\n",
    "df1.to_csv(\"ACL.csv\",index=False)"
   ],
   "outputs": [],
   "metadata": {}
  }
 ],
 "metadata": {
  "orig_nbformat": 4,
  "language_info": {
   "name": "python",
   "version": "3.8.8",
   "mimetype": "text/x-python",
   "codemirror_mode": {
    "name": "ipython",
    "version": 3
   },
   "pygments_lexer": "ipython3",
   "nbconvert_exporter": "python",
   "file_extension": ".py"
  },
  "kernelspec": {
   "name": "python3",
   "display_name": "Python 3.8.8 64-bit ('base': conda)"
  },
  "interpreter": {
   "hash": "b3ba2566441a7c06988d0923437866b63cedc61552a5af99d1f4fb67d367b25f"
  }
 },
 "nbformat": 4,
 "nbformat_minor": 2
}