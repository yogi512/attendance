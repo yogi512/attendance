{
 "cells": [
  {
   "cell_type": "code",
   "execution_count": 5,
   "metadata": {},
   "outputs": [],
   "source": [
    "import pandas as pd \n",
    "import numpy as np\n",
    "import os\n",
    "import csv\n",
    "from pathlib import Path\n",
    "import datetime as dt\n",
    "import pytz"
   ]
  },
  {
   "cell_type": "code",
   "execution_count": 80,
   "metadata": {},
   "outputs": [],
   "source": [
    "data_dir='./Data'"
   ]
  },
  {
   "cell_type": "code",
   "execution_count": 79,
   "metadata": {},
   "outputs": [],
   "source": [
    "os.chdir(data_dir)\n",
    "os.listdir()\n",
    "for file in os.listdir():\n",
    "    try:\n",
    "        attendance(str(file))\n",
    "    except(FileNameError):\n",
    "        print('file')\n",
    "os.chdir('..')"
   ]
  },
  {
   "cell_type": "code",
   "execution_count": 7,
   "metadata": {},
   "outputs": [],
   "source": [
    "def avg_time(datetimes):\n",
    "    total = sum(dt.hour * 3600 + dt.minute * 60 + dt.second for dt in datetimes)\n",
    "    avg = total / len(datetimes)\n",
    "    minutes, seconds = divmod(int(avg), 60)\n",
    "    hours, minutes = divmod(minutes, 60)\n",
    "    return avg"
   ]
  },
  {
   "cell_type": "code",
   "execution_count": 8,
   "metadata": {},
   "outputs": [],
   "source": [
    "class Error(Exception):\n",
    "    pass\n",
    "class FileNameError(Error):\n",
    "    # Raised when the filename is not of set format\n",
    "    pass\n",
    "class FileAvailabilityError(Error):\n",
    "    # Raised when either class Namelist not available or Attendance list not available\n",
    "    pass\n",
    "class DataMismatchError(Error):\n",
    "    # Raised when the data is not of the accepted Format\n",
    "    pass"
   ]
  },
  {
   "cell_type": "markdown",
   "metadata": {},
   "source": [
    "time = [sum(time.hour * 3600 + time.minute * 60 + time.second) for time in times]"
   ]
  },
  {
   "cell_type": "code",
   "execution_count": 68,
   "metadata": {},
   "outputs": [],
   "source": [
    "def attendance(filename):\n",
    "    try:\n",
    "        date = filename.split('_')[1] #Getting Date from File Name\n",
    "        date = date.split('.')[0] \n",
    "        subject = filename.split('_')[0]\n",
    "    except:\n",
    "        raise FileNameError\n",
    "    try:\n",
    "        df = pd.read_csv(filename,skiprows=4)\n",
    "        data = pd.read_csv('../'+subject + '.csv')\n",
    "    except:\n",
    "        raise FileAvailabilityError\n",
    "\n",
    "    try:\n",
    "        if df.shape[1]>2:    \n",
    "            \n",
    "            \n",
    "            names=df['Full Name'].to_list()\n",
    "            data[date]=data['Full Name'].apply(lambda x: 1 if x in names else \"\") #Leaving Empty for absenteers\n",
    "            df['Time in Call'] = pd.to_datetime(df['Time in Call'])\n",
    "            df['Time in Call']=df['Time in Call'].dt.time\n",
    "            # Getting the values of time in call for all names in our main csv (ie.data) \n",
    "            # if they are absent our attendance csv(ie.df) wont have their names and it will return a null series object\n",
    "\n",
    "            timelist=[]\n",
    "            for name in data[\"Full Name\"]:\n",
    "                a=df[df['Full Name']==name]['Time in Call']\n",
    "                timelist.append(a.astype(str))\n",
    "\n",
    "            # Identifying the null series object and replacing it with (\"00:00:00\")\n",
    "            finallist=list(map(lambda x:pd.Series(\"00:00:00\") if x.empty==True else x,timelist))\n",
    "            # Creating a New column in main dataframe (data) and assigning it to finallist\n",
    "            data['Time in Call']=finallist\n",
    "            data['Time in Call']=data['Time in Call'].apply(pd.Series).stack().reset_index(drop = True) # organising #\n",
    "            data['Time in Call'].astype(str) #converting to string\n",
    "            data['Time in Call'] = pd.to_datetime(data['Time in Call']) #converting to datetime object #\n",
    "            data['Time in Call']=data['Time in Call'].dt.time # Leaving out date and taking only time #\n",
    "            data['totalTime']=data['Time in Call'].apply(lambda x:(x.hour*3600 + x.minute*60 +x.second))# Calculating Total Time in Sec #\n",
    "\n",
    "            # Applying Threshold Conditions\n",
    "\n",
    "            times = data['Time in Call'].to_list()\n",
    "            avg = avg_time(times)\n",
    "            threshold = 0.5*avg\n",
    "            data[date]=data['totalTime'].apply(lambda x: 1 if x >threshold else \"absent\")\n",
    "\n",
    "            # Droping Unnecessary Columns\n",
    "            data.drop(['totalTime','Time in Call'],axis=1,inplace=True)\n",
    "\n",
    "            # Converting to csv #\n",
    "            data.to_csv('../'+subject +'.csv',index=False)\n",
    "        else:\n",
    "            #### Marking Present Based on Names alone ####\n",
    "            names=df['Full Name'].to_list()\n",
    "            data[date]=data['Full Name'].apply(lambda x: 1 if x in names else \"absent\") \n",
    "            data.to_csv('../'+subject +'.csv',index=False)\n",
    "    \n",
    "    except:\n",
    "        raise DataMismatchError\n"
   ]
  },
  {
   "cell_type": "markdown",
   "metadata": {},
   "source": [
    "Get Class List from any of the meeting with full attendance"
   ]
  },
  {
   "cell_type": "code",
   "execution_count": 66,
   "metadata": {},
   "outputs": [],
   "source": [
    "def get_class_list(filename):\n",
    "    df1=pd.read_csv(filename,skiprows=4)\n",
    "    date = filename.split('_')[1] #Getting Date from File Name\n",
    "    date = date.split('.')[0] \n",
    "    subject = filename.split('_')[0]\n",
    "    df1.drop([\"First Seen\",\"Time in Call\"],axis=1,inplace=True)\n",
    "    os.chdir('..')\n",
    "    df1.to_csv(\"ECD.csv\",index=False)"
   ]
  },
  {
   "cell_type": "code",
   "execution_count": 27,
   "metadata": {},
   "outputs": [],
   "source": [
    "df1=pd.read_csv(filename)\n",
    "date = filename.split('_')[1] #Getting Date from File Name\n",
    "date = date.split('.')[0] \n",
    "subject = filename.split('_')[0]\n",
    "df1.drop([\"Time in Call\"],axis=1,inplace=True)\n",
    "df1.to_csv(\"ACL_2021-07-24.csv\",index=False)"
   ]
  }
 ],
 "metadata": {
  "kernelspec": {
   "display_name": "Python 3.8.8 ('base')",
   "language": "python",
   "name": "python3"
  },
  "language_info": {
   "codemirror_mode": {
    "name": "ipython",
    "version": 3
   },
   "file_extension": ".py",
   "mimetype": "text/x-python",
   "name": "python",
   "nbconvert_exporter": "python",
   "pygments_lexer": "ipython3",
   "version": "3.8.8"
  },
  "orig_nbformat": 4,
  "vscode": {
   "interpreter": {
    "hash": "ad2bdc8ecc057115af97d19610ffacc2b4e99fae6737bb82f5d7fb13d2f2c186"
   }
  }
 },
 "nbformat": 4,
 "nbformat_minor": 2
}
