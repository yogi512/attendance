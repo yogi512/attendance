{
 "cells": [
  {
   "cell_type": "code",
   "execution_count": 1,
   "source": [
    "import pandas as pd \r\n",
    "import numpy as np\r\n",
    "import os\r\n",
    "import csv\r\n",
    "from pathlib import Path\r\n",
    "import datetime as dt"
   ],
   "outputs": [],
   "metadata": {}
  },
  {
   "cell_type": "code",
   "execution_count": 2,
   "source": [
    "filename='ACL_2021-07-20.csv'"
   ],
   "outputs": [],
   "metadata": {}
  },
  {
   "cell_type": "code",
   "execution_count": 3,
   "source": [
    "def avg_time(datetimes):\r\n",
    "    total = sum(dt.hour * 3600 + dt.minute * 60 + dt.second for dt in datetimes)\r\n",
    "    avg = total / len(datetimes)\r\n",
    "    minutes, seconds = divmod(int(avg), 60)\r\n",
    "    hours, minutes = divmod(minutes, 60)\r\n",
    "    return avg"
   ],
   "outputs": [],
   "metadata": {}
  },
  {
   "cell_type": "code",
   "execution_count": 8,
   "source": [
    "class Error(Exception):\r\n",
    "    pass\r\n",
    "class FileNameError(Error):\r\n",
    "    # Raised when the filename is not of set format\r\n",
    "    pass\r\n",
    "class FileAvailabilityError(Error):\r\n",
    "    # Raised when either class Namelist not available or Attendance list not available\r\n",
    "    pass\r\n",
    "class DataMismatchError(Error):\r\n",
    "    # Raised when the data is not of the accepted Format\r\n",
    "    pass"
   ],
   "outputs": [],
   "metadata": {}
  },
  {
   "cell_type": "markdown",
   "source": [
    "time = [sum(time.hour * 3600 + time.minute * 60 + time.second) for time in times]"
   ],
   "metadata": {}
  },
  {
   "cell_type": "code",
   "execution_count": 9,
   "source": [
    "def attendance(filename):\r\n",
    "    try:\r\n",
    "        date = filename.split('_')[1] #Getting Date from File Name\r\n",
    "        date = date.split('.')[0] \r\n",
    "        subject = filename.split('_')[0]\r\n",
    "    except:\r\n",
    "        raise FileNameError\r\n",
    "    try:\r\n",
    "        data = pd.read_csv(subject + '.csv')\r\n",
    "        df = pd.read_csv(filename)\r\n",
    "    except:\r\n",
    "        raise FileAvailabilityError\r\n",
    "        \r\n",
    "    #### Marking Present Based on Names alone ####\r\n",
    "    try:\r\n",
    "        names=df['Full Name'].to_list()\r\n",
    "        df['Time in Call'] = pd.to_datetime(df['Time in Call'])\r\n",
    "        df['Time in Call']=df['Time in Call'].dt.time\r\n",
    "        data[date]=data['Full Name'].apply(lambda x: 1 if x in names else \"\") #Leaving Empty for absenteers\r\n",
    "\r\n",
    "        # Getting the values of time in call for all names in our main csv (ie.data) \r\n",
    "        # if they are absent our attendance csv(ie.df) wont have their names and it will return a null series object\r\n",
    "\r\n",
    "        timelist=[]\r\n",
    "        for name in data[\"Full Name\"]:\r\n",
    "            a=df[df['Full Name']==name]['Time in Call']\r\n",
    "            timelist.append(a.astype(str))\r\n",
    "\r\n",
    "        # Identifying the null series object and replacing it with (\"00:00:00\")\r\n",
    "        finallist=list(map(lambda x:pd.Series(\"00:00:00\") if x.empty==True else x,timelist))\r\n",
    "        # Creating a New column in main dataframe (data) and assigning it to finallist\r\n",
    "        data['Time in Call']=finallist\r\n",
    "        data['Time in Call']=data['Time in Call'].apply(pd.Series).stack().reset_index(drop = True) # organising #\r\n",
    "        data['Time in Call'].astype(str) #converting to string\r\n",
    "        data['Time in Call'] = pd.to_datetime(data['Time in Call']) #converting to datetime object #\r\n",
    "        data['Time in Call']=data['Time in Call'].dt.time # Leaving out date and taking only time #\r\n",
    "        data['totalTime']=data['Time in Call'].apply(lambda x:(x.hour*3600 + x.minute*60 +x.second))# Calculating Total Time in Sec #\r\n",
    "\r\n",
    "        # Applying Threshold Conditions\r\n",
    "\r\n",
    "        times = data['Time in Call'].to_list()\r\n",
    "        avg = avg_time(times)\r\n",
    "        threshold = 0.5*avg\r\n",
    "        data[date]=data['totalTime'].apply(lambda x: 1 if x >threshold else \"absent\")\r\n",
    "\r\n",
    "        # Droping Unnecessary Columns\r\n",
    "        data.drop(['totalTime','Time in Call'],axis=1,inplace=True)\r\n",
    "\r\n",
    "        # Converting to csv #\r\n",
    "        data.to_csv(subject +'.csv',index=False)\r\n",
    "    except:\r\n",
    "        raise DataMismatchError\r\n",
    "\r\n"
   ],
   "outputs": [],
   "metadata": {}
  },
  {
   "cell_type": "code",
   "execution_count": 10,
   "source": [
    "attendance(filename)"
   ],
   "outputs": [],
   "metadata": {}
  },
  {
   "cell_type": "markdown",
   "source": [
    "Get Class List from any of the meeting with full attendance"
   ],
   "metadata": {}
  },
  {
   "cell_type": "code",
   "execution_count": 11,
   "source": [
    "def get_class_list(filename):\r\n",
    "    df1=pd.read_csv(filename)\r\n",
    "    date = filename.split('_')[1] #Getting Date from File Name\r\n",
    "    date = date.split('.')[0] \r\n",
    "    subject = filename.split('_')[0]\r\n",
    "    df1.drop([\"First Seen\",\"Time in Call\"],axis=1,inplace=True)\r\n",
    "    df1.to_csv(subject+\".csv\",index=False)"
   ],
   "outputs": [],
   "metadata": {}
  }
 ],
 "metadata": {
  "orig_nbformat": 4,
  "language_info": {
   "name": "python",
   "version": "3.8.8",
   "mimetype": "text/x-python",
   "codemirror_mode": {
    "name": "ipython",
    "version": 3
   },
   "pygments_lexer": "ipython3",
   "nbconvert_exporter": "python",
   "file_extension": ".py"
  },
  "kernelspec": {
   "name": "python3",
   "display_name": "Python 3.8.8 64-bit ('base': conda)"
  },
  "interpreter": {
   "hash": "b3ba2566441a7c06988d0923437866b63cedc61552a5af99d1f4fb67d367b25f"
  }
 },
 "nbformat": 4,
 "nbformat_minor": 2
}